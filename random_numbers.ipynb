{
 "cells": [
  {
   "cell_type": "code",
   "execution_count": 1,
   "id": "76e9ab98",
   "metadata": {},
   "outputs": [],
   "source": [
    "# Import the random module.\n",
    "\n",
    "import random\n"
   ]
  },
  {
   "cell_type": "code",
   "execution_count": 2,
   "id": "69fc951d",
   "metadata": {},
   "outputs": [
    {
     "data": {
      "text/plain": [
       "-30"
      ]
     },
     "execution_count": 2,
     "metadata": {},
     "output_type": "execute_result"
    }
   ],
   "source": [
    "random.randint(-90,90)"
   ]
  },
  {
   "cell_type": "code",
   "execution_count": 3,
   "id": "97f51966",
   "metadata": {},
   "outputs": [
    {
     "data": {
      "text/plain": [
       "0.5408322928885676"
      ]
     },
     "execution_count": 3,
     "metadata": {},
     "output_type": "execute_result"
    }
   ],
   "source": [
    "random.random()"
   ]
  },
  {
   "cell_type": "code",
   "execution_count": 8,
   "id": "0349a4f2",
   "metadata": {},
   "outputs": [
    {
     "name": "stdout",
     "output_type": "stream",
     "text": [
      "[-28.471420051746477, -83.04559546380342, 37.305362229424915, -7.548058963041404, -56.874013723255395, -12.538626902445042, -19.9612614176734, -22.682520432702976, 1.5377770750871305, 8.176710906847894]\n"
     ]
    }
   ],
   "source": [
    "# write an algorithm that will generate latitudes between -90 and 89\n",
    "x = 1\n",
    "latitudes = []\n",
    "while x < 11:\n",
    "    random_lat = random.randint(-90,89) + random.random()\n",
    "    latitudes.append(random_lat)\n",
    "    x+=1\n",
    "\n",
    "print(latitudes)"
   ]
  },
  {
   "cell_type": "code",
   "execution_count": 9,
   "id": "39252499",
   "metadata": {},
   "outputs": [
    {
     "data": {
      "text/plain": [
       "-71"
      ]
     },
     "execution_count": 9,
     "metadata": {},
     "output_type": "execute_result"
    }
   ],
   "source": [
    "random.randrange(-90,90,step=1)"
   ]
  },
  {
   "cell_type": "code",
   "execution_count": 10,
   "id": "d6bca795",
   "metadata": {},
   "outputs": [
    {
     "data": {
      "text/plain": [
       "-84"
      ]
     },
     "execution_count": 10,
     "metadata": {},
     "output_type": "execute_result"
    }
   ],
   "source": [
    "random.randrange(-90,90, step=3)"
   ]
  },
  {
   "cell_type": "code",
   "execution_count": 11,
   "id": "7fb0601c",
   "metadata": {},
   "outputs": [
    {
     "data": {
      "text/plain": [
       "56.33200287195231"
      ]
     },
     "execution_count": 11,
     "metadata": {},
     "output_type": "execute_result"
    }
   ],
   "source": [
    "random.uniform(-90,90)"
   ]
  },
  {
   "cell_type": "code",
   "execution_count": 12,
   "id": "9a0e754d",
   "metadata": {},
   "outputs": [],
   "source": [
    "# Import the NumPy module.\n",
    "import numpy as np"
   ]
  },
  {
   "cell_type": "code",
   "execution_count": 13,
   "id": "5c74d6f9",
   "metadata": {},
   "outputs": [
    {
     "data": {
      "text/plain": [
       "26.21893401897674"
      ]
     },
     "execution_count": 13,
     "metadata": {},
     "output_type": "execute_result"
    }
   ],
   "source": [
    "np.random.uniform(-90.000,90.000)"
   ]
  },
  {
   "cell_type": "code",
   "execution_count": 14,
   "id": "f0c87f48",
   "metadata": {},
   "outputs": [
    {
     "data": {
      "text/plain": [
       "array([-63.17342536, -26.69655604,  10.2977098 ,  64.64480182,\n",
       "        77.59362604,  49.33078377, -75.35203274,  60.7586211 ,\n",
       "         2.9213097 ,  41.49753448, -85.13049959,  70.09066725,\n",
       "        42.03635015,  -4.21697174,  37.47993549, -44.20525406,\n",
       "        -1.03171779,   6.12161622, -66.60088498,  46.11272221,\n",
       "       -80.8450854 ,  34.43597991,  73.93937133, -22.44885791,\n",
       "       -75.57510878, -30.6760102 ,  -7.5572964 ,   9.02481849,\n",
       "        76.37385941,  36.58924785,  38.97468646, -25.08016723,\n",
       "        39.59858   , -75.43672313, -55.07822688,  25.20355782,\n",
       "       -88.40119464, -47.2463548 ,  24.4527514 , -51.90502946,\n",
       "       -23.61345088, -65.57386293,  65.83017522,  -1.4079045 ,\n",
       "        83.9833114 ,  32.77704351, -19.70795847, -41.40851655,\n",
       "        -8.41008707,  82.43599062])"
      ]
     },
     "execution_count": 14,
     "metadata": {},
     "output_type": "execute_result"
    }
   ],
   "source": [
    "np.random.uniform(-90,90,size=50)"
   ]
  },
  {
   "cell_type": "code",
   "execution_count": 15,
   "id": "22d2ce05",
   "metadata": {},
   "outputs": [],
   "source": [
    "# Import timeit\n",
    "import timeit"
   ]
  },
  {
   "cell_type": "code",
   "execution_count": 17,
   "id": "63097749",
   "metadata": {},
   "outputs": [
    {
     "name": "stdout",
     "output_type": "stream",
     "text": [
      "27.1 µs ± 1.9 µs per loop (mean ± std. dev. of 7 runs, 10000 loops each)\n"
     ]
    }
   ],
   "source": [
    "%timeit np.random.uniform(-90,90,size=1500)"
   ]
  },
  {
   "cell_type": "code",
   "execution_count": 18,
   "id": "568d8467",
   "metadata": {},
   "outputs": [
    {
     "name": "stdout",
     "output_type": "stream",
     "text": [
      "2.27 µs ± 69.6 ns per loop (mean ± std. dev. of 7 runs, 100000 loops each)\n"
     ]
    }
   ],
   "source": [
    "def latitudes(size):\n",
    "    latitudes = []\n",
    "    x=0\n",
    "    while x < (size):\n",
    "        random_lat = random.randint(-90,90)+random.random()\n",
    "        latitudes.append(random_lat)\n",
    "        x+=1\n",
    "        \n",
    "        return latitudes\n",
    "    \n",
    "# Call the function with 1500.\n",
    "%timeit latitudes(1500)\n",
    "\n",
    "# Using the np.random.uniform(-90.000, 90.000, size=1500)\n",
    "#is 100 times faster than using the function, and our code is one line,\n",
    "# whereas the function uses eight lines\n"
   ]
  },
  {
   "cell_type": "code",
   "execution_count": null,
   "id": "2728438f",
   "metadata": {},
   "outputs": [],
   "source": []
  }
 ],
 "metadata": {
  "kernelspec": {
   "display_name": "PythonData",
   "language": "python",
   "name": "pythondata"
  },
  "language_info": {
   "codemirror_mode": {
    "name": "ipython",
    "version": 3
   },
   "file_extension": ".py",
   "mimetype": "text/x-python",
   "name": "python",
   "nbconvert_exporter": "python",
   "pygments_lexer": "ipython3",
   "version": "3.7.13"
  }
 },
 "nbformat": 4,
 "nbformat_minor": 5
}
